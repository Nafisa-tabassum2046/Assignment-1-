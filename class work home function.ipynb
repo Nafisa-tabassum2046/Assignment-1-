{
 "cells": [
  {
   "cell_type": "code",
   "execution_count": 1,
   "id": "a50c2964",
   "metadata": {},
   "outputs": [],
   "source": [
    "def func():\n",
    "    print(\"This is a function\")"
   ]
  },
  {
   "cell_type": "code",
   "execution_count": 2,
   "id": "4e9522bf",
   "metadata": {},
   "outputs": [
    {
     "name": "stdout",
     "output_type": "stream",
     "text": [
      "This is a function\n"
     ]
    }
   ],
   "source": [
    "func()"
   ]
  },
  {
   "cell_type": "code",
   "execution_count": 3,
   "id": "50f8a31c",
   "metadata": {},
   "outputs": [
    {
     "data": {
      "text/plain": [
       "110"
      ]
     },
     "execution_count": 3,
     "metadata": {},
     "output_type": "execute_result"
    }
   ],
   "source": [
    "a = 100\n",
    "b = 10\n",
    "a+b"
   ]
  },
  {
   "cell_type": "code",
   "execution_count": 4,
   "id": "a9d781ca",
   "metadata": {},
   "outputs": [],
   "source": [
    "def add_number():\n",
    "    a = 100\n",
    "    b = 200\n",
    "    print(a+b)"
   ]
  },
  {
   "cell_type": "code",
   "execution_count": 5,
   "id": "3250ea5f",
   "metadata": {},
   "outputs": [
    {
     "name": "stdout",
     "output_type": "stream",
     "text": [
      "300\n"
     ]
    }
   ],
   "source": [
    "add_number()"
   ]
  },
  {
   "cell_type": "code",
   "execution_count": 6,
   "id": "d443f7e4",
   "metadata": {},
   "outputs": [
    {
     "name": "stdout",
     "output_type": "stream",
     "text": [
      "300\n"
     ]
    }
   ],
   "source": [
    "add_number()"
   ]
  },
  {
   "cell_type": "code",
   "execution_count": 7,
   "id": "0dc241a0",
   "metadata": {},
   "outputs": [],
   "source": [
    "def add_number(a,b):\n",
    "    print(a+b)\n",
    "    \n",
    "    "
   ]
  },
  {
   "cell_type": "code",
   "execution_count": 9,
   "id": "11e3bc34",
   "metadata": {},
   "outputs": [
    {
     "name": "stdout",
     "output_type": "stream",
     "text": [
      "11111118\n"
     ]
    }
   ],
   "source": [
    "add_number(11111111,7)"
   ]
  },
  {
   "cell_type": "code",
   "execution_count": 10,
   "id": "fbeaa40a",
   "metadata": {},
   "outputs": [
    {
     "name": "stdout",
     "output_type": "stream",
     "text": [
      "1200\n"
     ]
    }
   ],
   "source": [
    "add_number(500,700)"
   ]
  },
  {
   "cell_type": "code",
   "execution_count": 11,
   "id": "c2f0c090",
   "metadata": {},
   "outputs": [],
   "source": [
    "def add_number(a,b):\n",
    "    return a+b"
   ]
  },
  {
   "cell_type": "code",
   "execution_count": 12,
   "id": "ed6e8323",
   "metadata": {},
   "outputs": [
    {
     "data": {
      "text/plain": [
       "160"
      ]
     },
     "execution_count": 12,
     "metadata": {},
     "output_type": "execute_result"
    }
   ],
   "source": [
    "add_number(80,80)"
   ]
  },
  {
   "cell_type": "code",
   "execution_count": 13,
   "id": "28e1f58e",
   "metadata": {},
   "outputs": [],
   "source": [
    "def add_number_two(a,b):\n",
    "    print(a+b)"
   ]
  },
  {
   "cell_type": "code",
   "execution_count": 15,
   "id": "ff1321d5",
   "metadata": {},
   "outputs": [
    {
     "name": "stdout",
     "output_type": "stream",
     "text": [
      "1100\n"
     ]
    }
   ],
   "source": [
    "ant = add_number_two(500,600)"
   ]
  },
  {
   "cell_type": "code",
   "execution_count": 16,
   "id": "b7de5a97",
   "metadata": {},
   "outputs": [],
   "source": [
    "ant"
   ]
  },
  {
   "cell_type": "code",
   "execution_count": 17,
   "id": "96bd37d3",
   "metadata": {},
   "outputs": [],
   "source": [
    "def add_number_two(a,b):\n",
    "    return(a+b)"
   ]
  },
  {
   "cell_type": "code",
   "execution_count": 18,
   "id": "fe97f8e3",
   "metadata": {},
   "outputs": [],
   "source": [
    "an = add_number_two(200,800)"
   ]
  },
  {
   "cell_type": "code",
   "execution_count": 19,
   "id": "61204754",
   "metadata": {},
   "outputs": [
    {
     "data": {
      "text/plain": [
       "1000"
      ]
     },
     "execution_count": 19,
     "metadata": {},
     "output_type": "execute_result"
    }
   ],
   "source": [
    "an"
   ]
  },
  {
   "cell_type": "code",
   "execution_count": 20,
   "id": "500e909f",
   "metadata": {},
   "outputs": [],
   "source": [
    "#nested function"
   ]
  },
  {
   "cell_type": "code",
   "execution_count": 21,
   "id": "87f67370",
   "metadata": {},
   "outputs": [],
   "source": [
    "def func1_one(a):\n",
    "    def func2_two(a):\n",
    "        return 100\n",
    "    return func2_two()"
   ]
  },
  {
   "cell_type": "code",
   "execution_count": 34,
   "id": "9c5ffadb",
   "metadata": {},
   "outputs": [
    {
     "data": {
      "text/plain": [
       "100"
      ]
     },
     "execution_count": 34,
     "metadata": {},
     "output_type": "execute_result"
    }
   ],
   "source": [
    "func1_one()"
   ]
  },
  {
   "cell_type": "code",
   "execution_count": 35,
   "id": "c697951c",
   "metadata": {},
   "outputs": [
    {
     "ename": "NameError",
     "evalue": "name 'func2_two' is not defined",
     "output_type": "error",
     "traceback": [
      "\u001b[1;31m---------------------------------------------------------------------------\u001b[0m",
      "\u001b[1;31mNameError\u001b[0m                                 Traceback (most recent call last)",
      "\u001b[1;32m<ipython-input-35-b3b55934c235>\u001b[0m in \u001b[0;36m<module>\u001b[1;34m\u001b[0m\n\u001b[1;32m----> 1\u001b[1;33m \u001b[0mfunc2_two\u001b[0m\u001b[1;33m(\u001b[0m\u001b[1;36m1\u001b[0m\u001b[1;33m)\u001b[0m\u001b[1;33m\u001b[0m\u001b[1;33m\u001b[0m\u001b[0m\n\u001b[0m",
      "\u001b[1;31mNameError\u001b[0m: name 'func2_two' is not defined"
     ]
    }
   ],
   "source": [
    "func2_two(1)"
   ]
  },
  {
   "cell_type": "code",
   "execution_count": null,
   "id": "396576ec",
   "metadata": {},
   "outputs": [],
   "source": []
  },
  {
   "cell_type": "markdown",
   "id": "e7a69e1c",
   "metadata": {},
   "source": [
    "# ki kore amra nes_func_two ta use korbo "
   ]
  },
  {
   "cell_type": "code",
   "execution_count": 27,
   "id": "89fd3440",
   "metadata": {},
   "outputs": [],
   "source": [
    "def nes_func_one(number1,number2,number3):\n",
    "    def nes_func_two(number2,number3):\n",
    "        return (number2+number3)\n",
    "    number = nes_func_two(number2,number3)/number1\n",
    "    return number"
   ]
  },
  {
   "cell_type": "code",
   "execution_count": 29,
   "id": "e714fef6",
   "metadata": {},
   "outputs": [
    {
     "data": {
      "text/plain": [
       "9.0"
      ]
     },
     "execution_count": 29,
     "metadata": {},
     "output_type": "execute_result"
    }
   ],
   "source": [
    "nes_func_one(100,400,500)"
   ]
  },
  {
   "cell_type": "code",
   "execution_count": 32,
   "id": "a3d03542",
   "metadata": {},
   "outputs": [
    {
     "ename": "NameError",
     "evalue": "name 'nes_func_two' is not defined",
     "output_type": "error",
     "traceback": [
      "\u001b[1;31m---------------------------------------------------------------------------\u001b[0m",
      "\u001b[1;31mNameError\u001b[0m                                 Traceback (most recent call last)",
      "\u001b[1;32m<ipython-input-32-b7b30b525c54>\u001b[0m in \u001b[0;36m<module>\u001b[1;34m\u001b[0m\n\u001b[1;32m----> 1\u001b[1;33m \u001b[0mnes_func_two\u001b[0m\u001b[1;33m(\u001b[0m\u001b[1;36m200\u001b[0m\u001b[1;33m,\u001b[0m\u001b[1;36m800\u001b[0m\u001b[1;33m)\u001b[0m\u001b[1;33m\u001b[0m\u001b[1;33m\u001b[0m\u001b[0m\n\u001b[0m",
      "\u001b[1;31mNameError\u001b[0m: name 'nes_func_two' is not defined"
     ]
    }
   ],
   "source": [
    "nes_func_two(200,800)"
   ]
  },
  {
   "cell_type": "markdown",
   "id": "2d16ab31",
   "metadata": {},
   "source": [
    "# Recursion function"
   ]
  },
  {
   "cell_type": "code",
   "execution_count": 36,
   "id": "f18fb67d",
   "metadata": {},
   "outputs": [],
   "source": [
    "def print_again():\n",
    "    print(\"Recursion function\")\n",
    "    return print_again()"
   ]
  },
  {
   "cell_type": "markdown",
   "id": "1032fb15",
   "metadata": {},
   "source": [
    "<!-- print_again() -->"
   ]
  },
  {
   "cell_type": "code",
   "execution_count": 38,
   "id": "245937fc",
   "metadata": {},
   "outputs": [],
   "source": [
    "# print_again()"
   ]
  },
  {
   "cell_type": "markdown",
   "id": "9fbb55dd",
   "metadata": {},
   "source": [
    "# Recursion function factorial"
   ]
  },
  {
   "cell_type": "code",
   "execution_count": 42,
   "id": "4731a426",
   "metadata": {},
   "outputs": [
    {
     "name": "stdout",
     "output_type": "stream",
     "text": [
      "120\n"
     ]
    }
   ],
   "source": [
    "# raw code\n",
    "n = 5\n",
    "fact = 1\n",
    "for i in range(1, n+1):\n",
    "    fact*=i\n",
    "print(fact)"
   ]
  },
  {
   "cell_type": "code",
   "execution_count": 43,
   "id": "5013ed2b",
   "metadata": {},
   "outputs": [],
   "source": [
    "# now use the factorial\n",
    "def factorial(n):\n",
    "    if n == 1:\n",
    "        return 1\n",
    "    elif n == 0:\n",
    "        return 0\n",
    "    else:\n",
    "        return n*factorial(n-1) #5*4 = 20, 20*3 = 60, 60*2=120, 120*1=120"
   ]
  },
  {
   "cell_type": "code",
   "execution_count": 44,
   "id": "723caf09",
   "metadata": {},
   "outputs": [
    {
     "data": {
      "text/plain": [
       "120"
      ]
     },
     "execution_count": 44,
     "metadata": {},
     "output_type": "execute_result"
    }
   ],
   "source": [
    "factorial(5)#5*4 = 20, 20*3 = 60, 60*2=120, 120*1=120"
   ]
  },
  {
   "cell_type": "code",
   "execution_count": 45,
   "id": "b4088366",
   "metadata": {},
   "outputs": [
    {
     "data": {
      "text/plain": [
       "0"
      ]
     },
     "execution_count": 45,
     "metadata": {},
     "output_type": "execute_result"
    }
   ],
   "source": [
    "factorial(0)"
   ]
  },
  {
   "cell_type": "code",
   "execution_count": 46,
   "id": "34730a64",
   "metadata": {},
   "outputs": [
    {
     "data": {
      "text/plain": [
       "1"
      ]
     },
     "execution_count": 46,
     "metadata": {},
     "output_type": "execute_result"
    }
   ],
   "source": [
    "factorial(1)"
   ]
  },
  {
   "cell_type": "markdown",
   "id": "5a6c466b",
   "metadata": {},
   "source": [
    "# lambda faction"
   ]
  },
  {
   "cell_type": "code",
   "execution_count": 52,
   "id": "08932808",
   "metadata": {},
   "outputs": [],
   "source": [
    "number = lambda a: a+10"
   ]
  },
  {
   "cell_type": "code",
   "execution_count": 53,
   "id": "72ee990b",
   "metadata": {},
   "outputs": [
    {
     "data": {
      "text/plain": [
       "100"
      ]
     },
     "execution_count": 53,
     "metadata": {},
     "output_type": "execute_result"
    }
   ],
   "source": [
    "number(90)"
   ]
  },
  {
   "cell_type": "code",
   "execution_count": null,
   "id": "f87adba0",
   "metadata": {},
   "outputs": [],
   "source": []
  },
  {
   "cell_type": "code",
   "execution_count": 54,
   "id": "74a416db",
   "metadata": {},
   "outputs": [],
   "source": [
    "# normal funtion\n",
    "def number(a):\n",
    "    return a+10"
   ]
  },
  {
   "cell_type": "code",
   "execution_count": 55,
   "id": "ec1ffd33",
   "metadata": {},
   "outputs": [
    {
     "data": {
      "text/plain": [
       "20"
      ]
     },
     "execution_count": 55,
     "metadata": {},
     "output_type": "execute_result"
    }
   ],
   "source": [
    "number(10)"
   ]
  },
  {
   "cell_type": "code",
   "execution_count": 56,
   "id": "ffe533b7",
   "metadata": {},
   "outputs": [],
   "source": [
    "sum = lambda a,b: a+b"
   ]
  },
  {
   "cell_type": "code",
   "execution_count": 57,
   "id": "27af7e0b",
   "metadata": {},
   "outputs": [
    {
     "data": {
      "text/plain": [
       "300"
      ]
     },
     "execution_count": 57,
     "metadata": {},
     "output_type": "execute_result"
    }
   ],
   "source": [
    "sum(100,200)"
   ]
  },
  {
   "cell_type": "code",
   "execution_count": 58,
   "id": "4c8a254d",
   "metadata": {},
   "outputs": [],
   "source": [
    "addition = lambda a,b: a+b if a == 100 else a*b"
   ]
  },
  {
   "cell_type": "code",
   "execution_count": 59,
   "id": "9b35fd35",
   "metadata": {},
   "outputs": [
    {
     "data": {
      "text/plain": [
       "300"
      ]
     },
     "execution_count": 59,
     "metadata": {},
     "output_type": "execute_result"
    }
   ],
   "source": [
    "addition(100,200)"
   ]
  },
  {
   "cell_type": "code",
   "execution_count": 60,
   "id": "36c534b0",
   "metadata": {},
   "outputs": [
    {
     "data": {
      "text/plain": [
       "120000"
      ]
     },
     "execution_count": 60,
     "metadata": {},
     "output_type": "execute_result"
    }
   ],
   "source": [
    "addition(300,400)"
   ]
  },
  {
   "cell_type": "markdown",
   "id": "b7f6eb5b",
   "metadata": {},
   "source": [
    "# Iteration function"
   ]
  },
  {
   "cell_type": "code",
   "execution_count": 61,
   "id": "0e95049a",
   "metadata": {},
   "outputs": [
    {
     "data": {
      "text/plain": [
       "range(0, 10)"
      ]
     },
     "execution_count": 61,
     "metadata": {},
     "output_type": "execute_result"
    }
   ],
   "source": [
    "range(10)"
   ]
  },
  {
   "cell_type": "markdown",
   "id": "21719a31",
   "metadata": {},
   "source": [
    "# range function akta helper funtion ..se for  ta ke help kortese"
   ]
  },
  {
   "cell_type": "markdown",
   "id": "8b69d296",
   "metadata": {},
   "source": [
    "# iteration function ar behaviuor hoise ai rokom je se nijer jonno kisu korte pare nah but se onno k help korte pare"
   ]
  },
  {
   "cell_type": "code",
   "execution_count": 63,
   "id": "b3313260",
   "metadata": {},
   "outputs": [
    {
     "data": {
      "text/plain": [
       "[0, 1, 2, 3, 4, 5, 6, 7, 8, 9]"
      ]
     },
     "execution_count": 63,
     "metadata": {},
     "output_type": "execute_result"
    }
   ],
   "source": [
    "list(range(0,10))"
   ]
  },
  {
   "cell_type": "markdown",
   "id": "4581caad",
   "metadata": {},
   "source": [
    "# generator function\n"
   ]
  },
  {
   "cell_type": "code",
   "execution_count": 66,
   "id": "8a047523",
   "metadata": {},
   "outputs": [],
   "source": [
    "def my_range(n):\n",
    "    for i in range(n):\n",
    "        yield i"
   ]
  },
  {
   "cell_type": "code",
   "execution_count": 67,
   "id": "9216797a",
   "metadata": {},
   "outputs": [
    {
     "name": "stdout",
     "output_type": "stream",
     "text": [
      "0\n",
      "1\n",
      "2\n",
      "3\n",
      "4\n",
      "5\n",
      "6\n",
      "7\n",
      "8\n",
      "9\n",
      "10\n",
      "11\n",
      "12\n",
      "13\n",
      "14\n",
      "15\n",
      "16\n",
      "17\n",
      "18\n"
     ]
    }
   ],
   "source": [
    "for i in my_range(19):\n",
    "    print(i)"
   ]
  },
  {
   "cell_type": "markdown",
   "id": "96584b5e",
   "metadata": {},
   "source": [
    "# map reduce filter"
   ]
  },
  {
   "cell_type": "markdown",
   "id": "00183573",
   "metadata": {},
   "source": [
    "# Map function"
   ]
  },
  {
   "cell_type": "code",
   "execution_count": 70,
   "id": "32d2eec0",
   "metadata": {},
   "outputs": [
    {
     "data": {
      "text/plain": [
       "15"
      ]
     },
     "execution_count": 70,
     "metadata": {},
     "output_type": "execute_result"
    }
   ],
   "source": [
    "number(5)"
   ]
  },
  {
   "cell_type": "code",
   "execution_count": 72,
   "id": "937017c8",
   "metadata": {
    "scrolled": true
   },
   "outputs": [
    {
     "data": {
      "text/plain": [
       "200"
      ]
     },
     "execution_count": 72,
     "metadata": {},
     "output_type": "execute_result"
    }
   ],
   "source": [
    "addition(10,20)"
   ]
  },
  {
   "cell_type": "markdown",
   "id": "c0de6c23",
   "metadata": {},
   "source": [
    "### Ai khan theke map function use hoise"
   ]
  },
  {
   "cell_type": "code",
   "execution_count": 87,
   "id": "efe289cd",
   "metadata": {},
   "outputs": [],
   "source": [
    "num = lambda a: a*a"
   ]
  },
  {
   "cell_type": "code",
   "execution_count": 88,
   "id": "3ed4afc3",
   "metadata": {},
   "outputs": [],
   "source": [
    "nums = [1,2,3,4,5,6,7,8,9]"
   ]
  },
  {
   "cell_type": "code",
   "execution_count": 89,
   "id": "45cd466c",
   "metadata": {},
   "outputs": [
    {
     "data": {
      "text/plain": [
       "[1, 4, 9, 16, 25, 36, 49, 64, 81]"
      ]
     },
     "execution_count": 89,
     "metadata": {},
     "output_type": "execute_result"
    }
   ],
   "source": [
    "result = list(map(num,nums))\n",
    "result"
   ]
  },
  {
   "cell_type": "markdown",
   "id": "9b5bd011",
   "metadata": {},
   "source": [
    "### ai opor ar kaj ta normal function dia korle ja hoto"
   ]
  },
  {
   "cell_type": "code",
   "execution_count": 90,
   "id": "02b26bd5",
   "metadata": {},
   "outputs": [],
   "source": [
    "def adds (num):\n",
    "    for i in num:\n",
    "        yield i+i"
   ]
  },
  {
   "cell_type": "code",
   "execution_count": 92,
   "id": "7ae786d7",
   "metadata": {},
   "outputs": [
    {
     "data": {
      "text/plain": [
       "[2, 4, 6, 8, 10, 12, 14, 16, 18]"
      ]
     },
     "execution_count": 92,
     "metadata": {},
     "output_type": "execute_result"
    }
   ],
   "source": [
    "list(adds(nums))"
   ]
  },
  {
   "cell_type": "markdown",
   "id": "d82e7f46",
   "metadata": {},
   "source": [
    "# filter"
   ]
  },
  {
   "cell_type": "code",
   "execution_count": 96,
   "id": "05d00a47",
   "metadata": {},
   "outputs": [],
   "source": [
    "# nums = [1,2,3,4,5,6,7,8,9]"
   ]
  },
  {
   "cell_type": "code",
   "execution_count": 102,
   "id": "90754b1e",
   "metadata": {},
   "outputs": [],
   "source": [
    "def check_even_odd(number):\n",
    "    if number %2 == 0:\n",
    "        return True\n",
    "    else:\n",
    "        return False\n",
    "    "
   ]
  },
  {
   "cell_type": "code",
   "execution_count": 103,
   "id": "a4f365d0",
   "metadata": {},
   "outputs": [],
   "source": [
    "even_number = list(filter(check_even_odd, nums))\n"
   ]
  },
  {
   "cell_type": "code",
   "execution_count": 104,
   "id": "0197021c",
   "metadata": {},
   "outputs": [
    {
     "data": {
      "text/plain": [
       "[2, 4, 6, 8]"
      ]
     },
     "execution_count": 104,
     "metadata": {},
     "output_type": "execute_result"
    }
   ],
   "source": [
    "even_number"
   ]
  },
  {
   "cell_type": "markdown",
   "id": "28d25e24",
   "metadata": {},
   "source": [
    "# Reduce"
   ]
  },
  {
   "cell_type": "code",
   "execution_count": 107,
   "id": "cd448ba2",
   "metadata": {},
   "outputs": [
    {
     "data": {
      "text/plain": [
       "[1, 2, 3, 4, 5, 6, 7, 8, 9]"
      ]
     },
     "execution_count": 107,
     "metadata": {},
     "output_type": "execute_result"
    }
   ],
   "source": [
    "# x1+x2+x3+xn\n",
    "nums"
   ]
  },
  {
   "cell_type": "code",
   "execution_count": 106,
   "id": "5eeaaaa0",
   "metadata": {},
   "outputs": [
    {
     "name": "stdout",
     "output_type": "stream",
     "text": [
      "45\n"
     ]
    }
   ],
   "source": [
    "from functools import reduce\n",
    "print(reduce(lambda a,b: a+b,nums))"
   ]
  },
  {
   "cell_type": "code",
   "execution_count": 110,
   "id": "950304a8",
   "metadata": {},
   "outputs": [
    {
     "name": "stdout",
     "output_type": "stream",
     "text": [
      "2\n"
     ]
    }
   ],
   "source": [
    "print(reduce(lambda a, b: a if a%2==0 else b, nums))"
   ]
  },
  {
   "cell_type": "code",
   "execution_count": 111,
   "id": "7421b429",
   "metadata": {},
   "outputs": [
    {
     "name": "stdout",
     "output_type": "stream",
     "text": [
      "9\n"
     ]
    }
   ],
   "source": [
    "print(reduce(lambda a,b: a if a>b else b, nums))"
   ]
  },
  {
   "cell_type": "code",
   "execution_count": 114,
   "id": "ab1f6020",
   "metadata": {},
   "outputs": [
    {
     "name": "stdout",
     "output_type": "stream",
     "text": [
      "1\n"
     ]
    }
   ],
   "source": [
    "print(reduce(lambda a,b: a if a<b else b, nums))"
   ]
  },
  {
   "cell_type": "code",
   "execution_count": 116,
   "id": "1755d9ae",
   "metadata": {},
   "outputs": [],
   "source": [
    "g = [12,3,4,5,5,34,2,312,43,546,768,456,76,0,123,456,6789]"
   ]
  },
  {
   "cell_type": "code",
   "execution_count": 117,
   "id": "76e1bdd6",
   "metadata": {},
   "outputs": [
    {
     "name": "stdout",
     "output_type": "stream",
     "text": [
      "6789\n"
     ]
    }
   ],
   "source": [
    "print(reduce(lambda a,b: a if a>b else b, g))"
   ]
  },
  {
   "cell_type": "code",
   "execution_count": 118,
   "id": "8fee68eb",
   "metadata": {},
   "outputs": [
    {
     "name": "stdout",
     "output_type": "stream",
     "text": [
      "0\n"
     ]
    }
   ],
   "source": [
    "print(reduce(lambda a,b: a if a<b else b, g))"
   ]
  },
  {
   "cell_type": "code",
   "execution_count": null,
   "id": "266e0987",
   "metadata": {},
   "outputs": [],
   "source": []
  },
  {
   "cell_type": "code",
   "execution_count": null,
   "id": "8c7fc0c5",
   "metadata": {},
   "outputs": [],
   "source": []
  },
  {
   "cell_type": "code",
   "execution_count": null,
   "id": "5b2fa2e0",
   "metadata": {},
   "outputs": [],
   "source": []
  },
  {
   "cell_type": "code",
   "execution_count": null,
   "id": "8e771e83",
   "metadata": {},
   "outputs": [],
   "source": []
  },
  {
   "cell_type": "code",
   "execution_count": null,
   "id": "9dd95c61",
   "metadata": {},
   "outputs": [],
   "source": []
  }
 ],
 "metadata": {
  "kernelspec": {
   "display_name": "Python 3",
   "language": "python",
   "name": "python3"
  },
  "language_info": {
   "codemirror_mode": {
    "name": "ipython",
    "version": 3
   },
   "file_extension": ".py",
   "mimetype": "text/x-python",
   "name": "python",
   "nbconvert_exporter": "python",
   "pygments_lexer": "ipython3",
   "version": "3.8.8"
  }
 },
 "nbformat": 4,
 "nbformat_minor": 5
}
